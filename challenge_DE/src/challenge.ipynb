{
 "cells": [
  {
   "cell_type": "markdown",
   "metadata": {},
   "source": [
    "# Path"
   ]
  },
  {
   "cell_type": "code",
   "execution_count": 5,
   "metadata": {},
   "outputs": [],
   "source": [
    "file_path = \"C:\\\\Users\\\\JuanJo\\\\Desktop\\\\LATAM\\\\Challenge\\\\farmers-protest-tweets-2021-2-4.json\""
   ]
  },
  {
   "cell_type": "markdown",
   "metadata": {},
   "source": [
    "# Pregunta 1\n",
    "\n",
    "##### a- top10 fechas con más tweets\n",
    "###### a- Considerando los retweets un tweet por si mismo se hace la suma de los ids por fechas de los tweet y los retweets y se rankea fechas principales.\n",
    "\n",
    "##### b- usuarios con más publicaciones dichos dias\n",
    "###### b- Con estas fechas se cuentan los usarios que emitieron tweets y retweets y se obtiene el maximo usuario para estas 10 fechas."
   ]
  },
  {
   "cell_type": "code",
   "execution_count": 13,
   "metadata": {},
   "outputs": [],
   "source": [
    "from q1_memory import q1_memory\n",
    "from q1_time import q1_time"
   ]
  },
  {
   "cell_type": "code",
   "execution_count": 14,
   "metadata": {},
   "outputs": [
    {
     "name": "stdout",
     "output_type": "stream",
     "text": [
      "[(datetime.date(2021, 2, 12), 'RaviSinghKA'), (datetime.date(2021, 2, 13), 'MaanDee08215437'), (datetime.date(2021, 2, 17), 'RaaJVinderkaur'), (datetime.date(2021, 2, 14), 'ndtv'), (datetime.date(2021, 2, 16), 'sikh_coalition'), (datetime.date(2021, 2, 18), 'neetuanjle_nitu'), (datetime.date(2021, 2, 15), 'RaviSinghKA'), (datetime.date(2021, 2, 19), 'Preetm91'), (datetime.date(2021, 2, 23), 'Kisanektamorcha'), (datetime.date(2021, 2, 20), 'MangalJ23056160')]\n"
     ]
    }
   ],
   "source": [
    "output_list_P1=q1_memory(file_path)\n",
    "print(output_list_P1)"
   ]
  },
  {
   "cell_type": "code",
   "execution_count": 15,
   "metadata": {},
   "outputs": [
    {
     "name": "stdout",
     "output_type": "stream",
     "text": [
      "[(datetime.date(2021, 2, 12), 'RaviSinghKA'), (datetime.date(2021, 2, 13), 'MaanDee08215437'), (datetime.date(2021, 2, 17), 'RaaJVinderkaur'), (datetime.date(2021, 2, 14), 'ndtv'), (datetime.date(2021, 2, 16), 'sikh_coalition'), (datetime.date(2021, 2, 18), 'neetuanjle_nitu'), (datetime.date(2021, 2, 15), 'RaviSinghKA'), (datetime.date(2021, 2, 19), 'Preetm91'), (datetime.date(2021, 2, 23), 'Kisanektamorcha'), (datetime.date(2021, 2, 20), 'MangalJ23056160')]\n"
     ]
    }
   ],
   "source": [
    "output_list_P1=q1_time(file_path)\n",
    "print(output_list_P1)"
   ]
  },
  {
   "cell_type": "markdown",
   "metadata": {},
   "source": [
    "# Pregunta 2\n",
    "\n",
    "##### a- top10 emojis más usados\n",
    "###### a- Considerando los retweets un tweet por si mismo se busca en cada content la existencia de emojis y se cuentan.\n",
    "\n",
    "##### b- conteo de estos emojis\n",
    "###### b- Se hace la suma general de todo por emoji y se rankea"
   ]
  },
  {
   "cell_type": "code",
   "execution_count": 6,
   "metadata": {},
   "outputs": [],
   "source": [
    "from q2_memory import q2_memory\n",
    "from q2_time import q2_time"
   ]
  },
  {
   "cell_type": "code",
   "execution_count": 7,
   "metadata": {},
   "outputs": [
    {
     "name": "stdout",
     "output_type": "stream",
     "text": [
      "[('🙏', 8916), ('😂', 4067), ('🚜', 3274), ('✊', 3046), ('🏻', 2696), ('🌾', 2652), ('❤', 2263), ('🤣', 2110), ('👉', 1895), ('👇', 1691)]\n"
     ]
    }
   ],
   "source": [
    "output_list_P2=q2_memory(file_path)\n",
    "print(output_list_P2)"
   ]
  },
  {
   "cell_type": "code",
   "execution_count": 8,
   "metadata": {},
   "outputs": [
    {
     "name": "stdout",
     "output_type": "stream",
     "text": [
      "[('🙏', 8916), ('😂', 4067), ('🚜', 3274), ('✊', 3046), ('🏻', 2696), ('🌾', 2652), ('❤', 2263), ('🤣', 2110), ('👉', 1895), ('👇', 1691)]\n"
     ]
    }
   ],
   "source": [
    "output_list_P2=q2_time(file_path)\n",
    "print(output_list_P2)"
   ]
  },
  {
   "cell_type": "markdown",
   "metadata": {},
   "source": [
    "# Pregunta 3\n",
    "\n",
    "##### a- top10 historico users con más menciones\n",
    "###### a- Considerando los retweets un tweet por si mismo se busca en en los dataframes de usarios mencionados y usuarios mencionados en los retweets cada aparicion de usuarios.\n",
    "\n",
    "##### b- conteo de estas menciones\n",
    "###### b- Se hace la suma general de todo por usuario y se rankea"
   ]
  },
  {
   "cell_type": "code",
   "execution_count": 9,
   "metadata": {},
   "outputs": [],
   "source": [
    "from q3_memory import q3_memory\n",
    "from q3_time import q3_time"
   ]
  },
  {
   "cell_type": "code",
   "execution_count": 10,
   "metadata": {},
   "outputs": [
    {
     "name": "stdout",
     "output_type": "stream",
     "text": [
      "[('narendramodi', 2623), ('Kisanektamorcha', 2045), ('RakeshTikaitBKU', 1848), ('PMOIndia', 1560), ('GretaThunberg', 1274), ('RahulGandhi', 1252), ('rihanna', 1142), ('DelhiPolice', 1134), ('RaviSinghKA', 1127), ('UNHumanRights', 1057)]\n"
     ]
    }
   ],
   "source": [
    "output_list_P3=q3_memory(file_path)\n",
    "print(output_list_P3)"
   ]
  },
  {
   "cell_type": "code",
   "execution_count": 11,
   "metadata": {},
   "outputs": [
    {
     "name": "stdout",
     "output_type": "stream",
     "text": [
      "[('narendramodi', 2623), ('Kisanektamorcha', 2045), ('RakeshTikaitBKU', 1848), ('PMOIndia', 1560), ('GretaThunberg', 1274), ('RahulGandhi', 1252), ('rihanna', 1142), ('DelhiPolice', 1134), ('RaviSinghKA', 1127), ('UNHumanRights', 1057)]\n"
     ]
    }
   ],
   "source": [
    "output_list_P3=q3_time(file_path)\n",
    "print(output_list_P3)"
   ]
  }
 ],
 "metadata": {
  "kernelspec": {
   "display_name": "latam",
   "language": "python",
   "name": "python3"
  },
  "language_info": {
   "codemirror_mode": {
    "name": "ipython",
    "version": 3
   },
   "file_extension": ".py",
   "mimetype": "text/x-python",
   "name": "python",
   "nbconvert_exporter": "python",
   "pygments_lexer": "ipython3",
   "version": "3.11.8"
  },
  "orig_nbformat": 4
 },
 "nbformat": 4,
 "nbformat_minor": 2
}
