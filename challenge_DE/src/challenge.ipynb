{
 "cells": [
  {
   "cell_type": "markdown",
   "metadata": {},
   "source": [
    "En este archivo puedes escribir lo que estimes conveniente. Te recomendamos detallar tu solución y todas las suposiciones que estás considerando. Aquí puedes ejecutar las funciones que definiste en los otros archivos de la carpeta src, medir el tiempo, memoria, etc."
   ]
  },
  {
   "cell_type": "code",
   "execution_count": 20,
   "metadata": {},
   "outputs": [],
   "source": [
    "import pandas as pd\n",
    "import numpy as np\n",
    "pd.set_option('display.max_rows', 500)\n",
    "from pandas import json_normalize\n",
    "\n",
    "#file_path = \"farmers-protest-tweets-2021-2-4.json\"\n",
    "file_path2 = \"C:\\\\Users\\\\JuanJo\\\\Desktop\\\\LATAM\\\\Challenge\\\\farmers-protest-tweets-2021-2-4.json\"\n",
    "\n"
   ]
  },
  {
   "cell_type": "code",
   "execution_count": 45,
   "metadata": {},
   "outputs": [],
   "source": [
    "df0=pd.read_json(file_path2, lines=True)\n",
    "df=df0.dropna(axis=1, how='all')"
   ]
  },
  {
   "cell_type": "code",
   "execution_count": 67,
   "metadata": {},
   "outputs": [],
   "source": [
    "df_users = json_normalize(df['user'])"
   ]
  },
  {
   "cell_type": "code",
   "execution_count": 68,
   "metadata": {},
   "outputs": [],
   "source": [
    "df_acotado2=df[['id','media']]\n",
    "df_acotado3=df[['id','quotedTweet']]\n",
    "df_acotado4=df[['id','mentionedUsers']]"
   ]
  },
  {
   "cell_type": "code",
   "execution_count": 82,
   "metadata": {},
   "outputs": [],
   "source": [
    "#dato=df_acotado2.iloc[0].media"
   ]
  },
  {
   "cell_type": "code",
   "execution_count": 84,
   "metadata": {},
   "outputs": [],
   "source": [
    "df_expandido = df_acotado2.explode('media')\n",
    "df_media = json_normalize(df_expandido['media'])\n",
    "df_media['id_prim'] = df_expandido['id'].values\n",
    "df_media=df_media.dropna(axis=1, how='all')\n",
    "df_media2 = df_media[df_media['type'].notnull()]"
   ]
  },
  {
   "cell_type": "code",
   "execution_count": 78,
   "metadata": {},
   "outputs": [],
   "source": [
    "df_quotedTweet = json_normalize(df['quotedTweet'])\n",
    "df_quotedTweet['id_prim'] = df_acotado3['id'].values\n",
    "df_quotedTweet2 = df_quotedTweet[df_quotedTweet['id'].notnull()]\n",
    "df_quotedTweet3=df_quotedTweet2.dropna(axis=1, how='all')\n"
   ]
  },
  {
   "cell_type": "code",
   "execution_count": 69,
   "metadata": {},
   "outputs": [],
   "source": [
    "df_expandido = df_acotado4.explode('mentionedUsers')\n",
    "df_mentionedUsers = json_normalize(df_expandido['mentionedUsers'])\n",
    "df_mentionedUsers['id_prim'] = df_expandido['id'].values\n",
    "df_mentionedUsers=df_mentionedUsers.dropna(axis=1, how='all')\n",
    "df_mentionedUsers2 = df_mentionedUsers[df_mentionedUsers['id'].notnull()]"
   ]
  }
 ],
 "metadata": {
  "kernelspec": {
   "display_name": "latam",
   "language": "python",
   "name": "python3"
  },
  "language_info": {
   "codemirror_mode": {
    "name": "ipython",
    "version": 3
   },
   "file_extension": ".py",
   "mimetype": "text/x-python",
   "name": "python",
   "nbconvert_exporter": "python",
   "pygments_lexer": "ipython3",
   "version": "3.11.8"
  },
  "orig_nbformat": 4
 },
 "nbformat": 4,
 "nbformat_minor": 2
}
