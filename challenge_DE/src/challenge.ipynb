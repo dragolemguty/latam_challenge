{
 "cells": [
  {
   "cell_type": "markdown",
   "metadata": {},
   "source": [
    "En este archivo puedes escribir lo que estimes conveniente. Te recomendamos detallar tu solución y todas las suposiciones que estás considerando. Aquí puedes ejecutar las funciones que definiste en los otros archivos de la carpeta src, medir el tiempo, memoria, etc."
   ]
  },
  {
   "cell_type": "markdown",
   "metadata": {},
   "source": [
    "# Librerias y path"
   ]
  },
  {
   "cell_type": "code",
   "execution_count": 10,
   "metadata": {},
   "outputs": [],
   "source": [
    "import emoji\n",
    "from collections import Counter"
   ]
  },
  {
   "cell_type": "code",
   "execution_count": 1,
   "metadata": {},
   "outputs": [],
   "source": [
    "import pandas as pd\n",
    "import numpy as np\n",
    "pd.set_option('display.max_rows', 500)\n",
    "from pandas import json_normalize\n",
    "\n",
    "#file_path = \"farmers-protest-tweets-2021-2-4.json\"\n",
    "file_path2 = \"C:\\\\Users\\\\JuanJo\\\\Desktop\\\\LATAM\\\\Challenge\\\\farmers-protest-tweets-2021-2-4.json\"\n",
    "\n"
   ]
  },
  {
   "cell_type": "markdown",
   "metadata": {},
   "source": [
    "# Dataframes"
   ]
  },
  {
   "cell_type": "markdown",
   "metadata": {},
   "source": [
    "### df\n",
    "\n",
    "Tweet original"
   ]
  },
  {
   "cell_type": "code",
   "execution_count": 2,
   "metadata": {},
   "outputs": [],
   "source": [
    "df0=pd.read_json(file_path2, lines=True)\n",
    "df=df0.dropna(axis=1, how='all')\n",
    "df['fecha'] = df['date'].dt.strftime('%Y-%m-%d')"
   ]
  },
  {
   "cell_type": "markdown",
   "metadata": {},
   "source": [
    "### df_users\n",
    "\n",
    "detalles de cada user"
   ]
  },
  {
   "cell_type": "code",
   "execution_count": 3,
   "metadata": {},
   "outputs": [],
   "source": [
    "df_users = json_normalize(df['user'])\n",
    "df_users['fecha'] = df['fecha'].values"
   ]
  },
  {
   "cell_type": "code",
   "execution_count": 4,
   "metadata": {},
   "outputs": [],
   "source": [
    "df_acotado2=df[['id','media']]\n",
    "df_acotado3=df[['id','quotedTweet']]\n",
    "df_acotado4=df[['id','mentionedUsers']]"
   ]
  },
  {
   "cell_type": "code",
   "execution_count": 82,
   "metadata": {},
   "outputs": [],
   "source": [
    "#dato=df_acotado2.iloc[0].media"
   ]
  },
  {
   "cell_type": "markdown",
   "metadata": {},
   "source": [
    "### df_media\n",
    "detalles de informacion tipo media"
   ]
  },
  {
   "cell_type": "code",
   "execution_count": 5,
   "metadata": {},
   "outputs": [],
   "source": [
    "df_expandido = df_acotado2.explode('media')\n",
    "df_media = json_normalize(df_expandido['media'])\n",
    "df_media['id_prim'] = df_expandido['id'].values\n",
    "df_media=df_media.dropna(axis=1, how='all')\n",
    "df_media2 = df_media[df_media['type'].notnull()]"
   ]
  },
  {
   "cell_type": "markdown",
   "metadata": {},
   "source": [
    "### df_quotedTweet\n",
    "\n",
    "reTweetos"
   ]
  },
  {
   "cell_type": "code",
   "execution_count": 6,
   "metadata": {},
   "outputs": [
    {
     "name": "stderr",
     "output_type": "stream",
     "text": [
      "C:\\Users\\JuanJo\\AppData\\Local\\Temp\\ipykernel_16812\\1096978238.py:5: SettingWithCopyWarning: \n",
      "A value is trying to be set on a copy of a slice from a DataFrame.\n",
      "Try using .loc[row_indexer,col_indexer] = value instead\n",
      "\n",
      "See the caveats in the documentation: https://pandas.pydata.org/pandas-docs/stable/user_guide/indexing.html#returning-a-view-versus-a-copy\n",
      "  df_quotedTweet3['fecha'] = pd.to_datetime(df_quotedTweet3['date']).dt.strftime('%Y-%m-%d')\n"
     ]
    }
   ],
   "source": [
    "df_quotedTweet = json_normalize(df['quotedTweet'])\n",
    "df_quotedTweet['id_prim'] = df_acotado3['id'].values\n",
    "df_quotedTweet2 = df_quotedTweet[df_quotedTweet['id'].notnull()]\n",
    "df_quotedTweet3=df_quotedTweet2.dropna(axis=1, how='all')\n",
    "df_quotedTweet3['fecha'] = pd.to_datetime(df_quotedTweet3['date']).dt.strftime('%Y-%m-%d')\n"
   ]
  },
  {
   "cell_type": "markdown",
   "metadata": {},
   "source": [
    "### df_mentionedUsers\n",
    "\n",
    "Usuarios mencionados en tweet original"
   ]
  },
  {
   "cell_type": "code",
   "execution_count": 7,
   "metadata": {},
   "outputs": [],
   "source": [
    "df_expandido = df_acotado4.explode('mentionedUsers')\n",
    "df_mentionedUsers = json_normalize(df_expandido['mentionedUsers'])\n",
    "df_mentionedUsers['id_prim'] = df_expandido['id'].values\n",
    "df_mentionedUsers=df_mentionedUsers.dropna(axis=1, how='all')\n",
    "df_mentionedUsers2 = df_mentionedUsers[df_mentionedUsers['id'].notnull()]"
   ]
  },
  {
   "cell_type": "markdown",
   "metadata": {},
   "source": [
    "### df_mentionedUsers_quot\n",
    "\n",
    "usuarios mencionados en retweeteos"
   ]
  },
  {
   "cell_type": "code",
   "execution_count": 8,
   "metadata": {},
   "outputs": [],
   "source": [
    "#df_quotedTweet3_acotado=df_quotedTweet3[['id','id_prim','user.username','user.id','mentionedUsers']]\n",
    "df_quotedTweet3_acotado=df_quotedTweet3[['id','mentionedUsers']]\n",
    "df_quotedTweet3_acotado = df_quotedTweet3_acotado[df_quotedTweet3_acotado['mentionedUsers'].notnull()]\n",
    "\n",
    "df_expandido = df_quotedTweet3_acotado.explode('mentionedUsers')\n",
    "df_mentionedUsers_quot = json_normalize(df_expandido['mentionedUsers'])\n",
    "df_mentionedUsers_quot['id_second'] = df_expandido['id'].values\n",
    "df_mentionedUsers_quot=df_mentionedUsers_quot.dropna(axis=1, how='all')\n",
    "\n",
    "#dato=df_quotedTweet3_acotado.iloc[0].mentionedUsers"
   ]
  },
  {
   "cell_type": "markdown",
   "metadata": {},
   "source": [
    "## Pruebas seguimiento de datos"
   ]
  },
  {
   "cell_type": "code",
   "execution_count": 9,
   "metadata": {},
   "outputs": [],
   "source": [
    "dato0_df=df_quotedTweet3.loc[0]\n",
    "dato0_idprim=df_quotedTweet3.iloc[0].id_prim\n",
    "dato0_id=int(df_quotedTweet3.iloc[0].id)\n",
    "dato0_2_comp=dato0_df.mentionedUsers\n",
    "\n",
    "dato2_df=df[df['id']==dato0_idprim].loc[0]\n",
    "\n",
    "\n",
    "dato2_2_df=df_mentionedUsers2[df_mentionedUsers2['id_prim']==dato0_idprim]\n",
    "dato0_2_df=df_mentionedUsers_quot[df_mentionedUsers_quot['id_second']==dato0_id]\n",
    "\n"
   ]
  },
  {
   "cell_type": "markdown",
   "metadata": {},
   "source": [
    "# Pregunta 1\n",
    "\n",
    "##### a- top10 fechas con más tweets\n",
    "###### a- Considerando los retweets un tweet por si mismo se hace la suma de los ids por fechas de los tweet y los retweets y se rankea fechas principales.\n",
    "\n",
    "##### b- usuarios con más publicaciones dichos dias\n",
    "###### b- Con estas fechas se cuentan los usarios que emitieron tweets y retweets y se obtiene el maximo usuario para estas 10 fechas."
   ]
  },
  {
   "cell_type": "code",
   "execution_count": 142,
   "metadata": {},
   "outputs": [],
   "source": [
    "df_agrup = df.groupby(df['fecha'])['id'].count()\n",
    "#print(len(df[df['fecha']=='2021-02-23'])) ##comprobacion\n",
    "df_retw_agrup = df_quotedTweet3.groupby(df_quotedTweet3['fecha'])['id'].count()"
   ]
  },
  {
   "cell_type": "code",
   "execution_count": 126,
   "metadata": {},
   "outputs": [],
   "source": [
    "# Fusionar los DataFrames en función de las fechas\n",
    "df_merged = pd.merge(df_agrup, df_retw_agrup, on='fecha', how='outer', suffixes=('_dftweets', '_dfretweets'))\n",
    "df_merged['cantidad_total'] = df_merged['id_dftweets'].fillna(0) + df_merged['id_dfretweets'].fillna(0)\n",
    "\n",
    "df_merged_sorted = df_merged.sort_values(by='cantidad_total', ascending=False)\n",
    "top_10_fechas = df_merged_sorted.head(10)\n"
   ]
  },
  {
   "cell_type": "markdown",
   "metadata": {},
   "source": [
    "#### Caso especifico para una fecha"
   ]
  },
  {
   "cell_type": "code",
   "execution_count": null,
   "metadata": {},
   "outputs": [],
   "source": [
    "df_user_agrup_0 = df_users.groupby(df_users[df_users['fecha']==top_10_fechas.index[0]]['username'])['id'].count()#.sum() #calza\n",
    "#print(len(df_users[df_users['fecha']==top_10_fechas.index[0]]))\n",
    "\n",
    "\n",
    "df_retwet_agrup_0 = df_quotedTweet3.groupby(df_quotedTweet3[df_quotedTweet3['fecha']==top_10_fechas.index[0]]['user.username'])['user.id'].count()#.sum() #calza\n",
    "#df_retwet_agrup_0=df_retwet_agrup_0.rename({'user.id':'id'})\n",
    "\n",
    "df_retwet_agrup_0.rename(\"id\",inplace=True)\n",
    "df_retwet_agrup_0.index.name=\"username\"\n",
    "#df_retwet_agrup_0.rename(\"username\",axis='index',inplace=True)\n",
    "#print(len(df_quotedTweet3[df_quotedTweet3['fecha']==top_10_fechas.index[0]]))"
   ]
  },
  {
   "cell_type": "code",
   "execution_count": null,
   "metadata": {},
   "outputs": [],
   "source": [
    "\n",
    "df_merged_users = pd.merge(df_user_agrup_0, df_retwet_agrup_0, on='username', how='outer', suffixes=('_dftweets', '_dfretweets'))\n",
    "df_merged_users ['cantidad_total'] = df_merged_users ['id_dftweets'].fillna(0) + df_merged_users ['id_dfretweets'].fillna(0)\n",
    "\n",
    "df_merged_users_sorted = df_merged_users .sort_values(by='cantidad_total', ascending=False)\n",
    "top_1 = df_merged_users_sorted.head(1)\n"
   ]
  },
  {
   "cell_type": "markdown",
   "metadata": {},
   "source": [
    "### Ciclo for para respuesta"
   ]
  },
  {
   "cell_type": "code",
   "execution_count": 134,
   "metadata": {},
   "outputs": [],
   "source": [
    "P1_data = {'Fecha': [], 'Usuario':[]}\n",
    "P1 = pd.DataFrame(data=P1_data)\n",
    "\n",
    "\n",
    "for i in top_10_fechas.index:\n",
    "\n",
    "    df_user_agrup_0 = df_users.groupby(df_users[df_users['fecha']==i]['username'])['id'].count()\n",
    "    df_retwet_agrup_0 = df_quotedTweet3.groupby(df_quotedTweet3[df_quotedTweet3['fecha']==top_10_fechas.index[0]]['user.username'])['user.id'].count()\n",
    "    df_retwet_agrup_0.rename(\"id\",inplace=True)\n",
    "    df_retwet_agrup_0.index.name=\"username\"\n",
    "    df_merged_users = pd.merge(df_user_agrup_0, df_retwet_agrup_0, on='username', how='outer', suffixes=('_dftweets', '_dfretweets'))\n",
    "    df_merged_users ['cantidad_total'] = df_merged_users ['id_dftweets'].fillna(0) + df_merged_users ['id_dfretweets'].fillna(0)\n",
    "    df_merged_users_sorted = df_merged_users .sort_values(by='cantidad_total', ascending=False)\n",
    "    top_1 = df_merged_users_sorted.head(1)\n",
    "    P1.loc[len(P1)] = np.array([i,top_1.index[0]])"
   ]
  },
  {
   "cell_type": "code",
   "execution_count": 137,
   "metadata": {},
   "outputs": [],
   "source": [
    "P1\n",
    "P1['Fecha'] = pd.to_datetime(P1['Fecha'])"
   ]
  },
  {
   "cell_type": "code",
   "execution_count": 160,
   "metadata": {},
   "outputs": [
    {
     "name": "stdout",
     "output_type": "stream",
     "text": [
      "[(datetime.date(2021, 2, 12), 'RaviSinghKA'), (datetime.date(2021, 2, 13), 'RaviSinghKA'), (datetime.date(2021, 2, 17), 'RaviSinghKA'), (datetime.date(2021, 2, 14), 'RaviSinghKA'), (datetime.date(2021, 2, 16), 'RaviSinghKA'), (datetime.date(2021, 2, 18), 'RaviSinghKA'), (datetime.date(2021, 2, 15), 'RaviSinghKA'), (datetime.date(2021, 2, 19), 'Preetm91'), (datetime.date(2021, 2, 23), 'RaviSinghKA'), (datetime.date(2021, 2, 20), 'RaviSinghKA')]\n"
     ]
    }
   ],
   "source": [
    "output_list_P1 = [(fecha.date(), usuario) for fecha, usuario in zip(P1['Fecha'], P1['Usuario'])]\n",
    "print(output_list_P1)"
   ]
  },
  {
   "cell_type": "markdown",
   "metadata": {},
   "source": [
    "# Pregunta 2\n",
    "\n",
    "##### a- top10 emojis más usados\n",
    "###### a- Considerando los retweets un tweet por si mismo se busca en cada content la existencia de emojis y se cuentan.\n",
    "\n",
    "##### b- conteo de estos emojis\n",
    "###### b- Se hace la suma general de todo por emoji y se rankea"
   ]
  },
  {
   "cell_type": "code",
   "execution_count": 16,
   "metadata": {},
   "outputs": [],
   "source": [
    "emojis = []\n",
    "for i in df['content']:\n",
    "    emojis += [c for c in i if c in emoji.EMOJI_DATA]\n",
    "conteo_emojis = Counter(emojis)\n",
    "df_emojis_twet = pd.DataFrame(list(conteo_emojis.items()), columns=['emoji', 'cantidad'])\n",
    "df_emojis_twet.set_index('emoji', inplace=True)\n",
    "#print(df_emojis_twet)\n",
    "\n",
    "emojis_ret = []\n",
    "for i in df_quotedTweet3['content']:\n",
    "    emojis_ret += [c for c in i if c in emoji.EMOJI_DATA]\n",
    "conteo_emojis = Counter(emojis_ret)\n",
    "df_emojis_retwet = pd.DataFrame(list(conteo_emojis.items()), columns=['emoji', 'cantidad'])\n",
    "df_emojis_retwet.set_index('emoji', inplace=True)\n",
    "#print(df_emojis_retwet)"
   ]
  },
  {
   "cell_type": "code",
   "execution_count": 18,
   "metadata": {},
   "outputs": [],
   "source": [
    "df_merged_emoji = pd.merge(df_emojis_twet, df_emojis_retwet, on='emoji', how='outer', suffixes=('_dftweets', '_dfretweets'))\n",
    "df_merged_emoji ['cantidad_total'] = df_merged_emoji ['cantidad_dftweets'].fillna(0) + df_merged_emoji ['cantidad_dfretweets'].fillna(0)\n",
    "\n",
    "df_merged_emoji_sorted = df_merged_emoji .sort_values(by='cantidad_total', ascending=False)\n",
    "top_10_emoji = df_merged_emoji_sorted.head(10)\n"
   ]
  },
  {
   "cell_type": "code",
   "execution_count": 19,
   "metadata": {},
   "outputs": [],
   "source": [
    "top_10_emoji=top_10_emoji.reset_index()"
   ]
  },
  {
   "cell_type": "code",
   "execution_count": 20,
   "metadata": {},
   "outputs": [
    {
     "name": "stderr",
     "output_type": "stream",
     "text": [
      "C:\\Users\\JuanJo\\AppData\\Local\\Temp\\ipykernel_16812\\3427506781.py:2: SettingWithCopyWarning: \n",
      "A value is trying to be set on a copy of a slice from a DataFrame.\n",
      "Try using .loc[row_indexer,col_indexer] = value instead\n",
      "\n",
      "See the caveats in the documentation: https://pandas.pydata.org/pandas-docs/stable/user_guide/indexing.html#returning-a-view-versus-a-copy\n",
      "  P2['cantidad_total'] = P2['cantidad_total'].astype(int)\n"
     ]
    }
   ],
   "source": [
    "P2=top_10_emoji[['emoji','cantidad_total']]\n",
    "P2['cantidad_total'] = P2['cantidad_total'].astype(int)"
   ]
  },
  {
   "cell_type": "code",
   "execution_count": 21,
   "metadata": {},
   "outputs": [
    {
     "name": "stdout",
     "output_type": "stream",
     "text": [
      "[('🙏', 8916), ('😂', 4067), ('🚜', 3274), ('✊', 3046), ('🏻', 2696), ('🌾', 2652), ('❤', 2263), ('🤣', 2110), ('👉', 1895), ('👇', 1691)]\n"
     ]
    }
   ],
   "source": [
    "output_list_P2 = [(emo, int(cantidad)) for emo, cantidad in zip(P2['emoji'], P2['cantidad_total'])]\n",
    "print(output_list_P2)"
   ]
  },
  {
   "cell_type": "markdown",
   "metadata": {},
   "source": [
    "# Pregunta 3\n",
    "\n",
    "##### a- top10 historico users con más menciones\n",
    "###### a- Considerando los retweets un tweet por si mismo se busca en en los dataframes de usarios mencionados y usuarios mencionados en los retweets cada aparicion de usuarios.\n",
    "\n",
    "##### b- conteo de estas menciones\n",
    "###### b- Se hace la suma general de todo por usuario y se rankea"
   ]
  },
  {
   "cell_type": "code",
   "execution_count": 143,
   "metadata": {},
   "outputs": [],
   "source": [
    "df_agrup_hist = df_mentionedUsers2.groupby(df_mentionedUsers2['username'])['id'].count()\n",
    "#print(len(df[df['fecha']=='2021-02-23'])) ##comprobacion\n",
    "df_retw_hist_agrup = df_mentionedUsers_quot.groupby(df_mentionedUsers_quot['username'])['id'].count()"
   ]
  },
  {
   "cell_type": "code",
   "execution_count": 151,
   "metadata": {},
   "outputs": [],
   "source": [
    "df_merged_menc = pd.merge(df_agrup_hist, df_retw_hist_agrup, on='username', how='outer', suffixes=('_dftweets', '_dfretweets'))\n",
    "df_merged_menc['cantidad_total'] = df_merged_menc['id_dftweets'].fillna(0) + df_merged_menc['id_dfretweets'].fillna(0)\n",
    "\n",
    "df_merged_menc_sorted = df_merged_menc.sort_values(by='cantidad_total', ascending=False)\n",
    "top_10_menciones = df_merged_menc_sorted.head(10)\n"
   ]
  },
  {
   "cell_type": "code",
   "execution_count": 152,
   "metadata": {},
   "outputs": [],
   "source": [
    "top_10_menciones=top_10_menciones.reset_index()"
   ]
  },
  {
   "cell_type": "code",
   "execution_count": 153,
   "metadata": {},
   "outputs": [],
   "source": [
    "P3=top_10_menciones[['username','cantidad_total']]"
   ]
  },
  {
   "cell_type": "code",
   "execution_count": 156,
   "metadata": {},
   "outputs": [
    {
     "name": "stderr",
     "output_type": "stream",
     "text": [
      "C:\\Users\\JuanJo\\AppData\\Local\\Temp\\ipykernel_7932\\670438264.py:2: SettingWithCopyWarning: \n",
      "A value is trying to be set on a copy of a slice from a DataFrame.\n",
      "Try using .loc[row_indexer,col_indexer] = value instead\n",
      "\n",
      "See the caveats in the documentation: https://pandas.pydata.org/pandas-docs/stable/user_guide/indexing.html#returning-a-view-versus-a-copy\n",
      "  P3['cantidad_total'] = P3['cantidad_total'].astype(int)\n"
     ]
    }
   ],
   "source": [
    "P3\n",
    "P3['cantidad_total'] = P3['cantidad_total'].astype(int)"
   ]
  },
  {
   "cell_type": "code",
   "execution_count": 159,
   "metadata": {},
   "outputs": [
    {
     "name": "stdout",
     "output_type": "stream",
     "text": [
      "[('narendramodi', 2623), ('Kisanektamorcha', 2045), ('RakeshTikaitBKU', 1848), ('PMOIndia', 1560), ('GretaThunberg', 1274), ('RahulGandhi', 1252), ('rihanna', 1142), ('DelhiPolice', 1134), ('RaviSinghKA', 1127), ('UNHumanRights', 1057)]\n"
     ]
    }
   ],
   "source": [
    "output_list_P3 = [(username, int(cantidad)) for username, cantidad in zip(P3['username'], P3['cantidad_total'])]\n",
    "print(output_list_P3)"
   ]
  }
 ],
 "metadata": {
  "kernelspec": {
   "display_name": "latam",
   "language": "python",
   "name": "python3"
  },
  "language_info": {
   "codemirror_mode": {
    "name": "ipython",
    "version": 3
   },
   "file_extension": ".py",
   "mimetype": "text/x-python",
   "name": "python",
   "nbconvert_exporter": "python",
   "pygments_lexer": "ipython3",
   "version": "3.11.8"
  },
  "orig_nbformat": 4
 },
 "nbformat": 4,
 "nbformat_minor": 2
}
